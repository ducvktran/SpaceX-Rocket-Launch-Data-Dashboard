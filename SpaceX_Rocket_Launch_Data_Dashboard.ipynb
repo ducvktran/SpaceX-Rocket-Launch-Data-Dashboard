{
  "nbformat": 4,
  "nbformat_minor": 0,
  "metadata": {
    "colab": {
      "provenance": [],
      "authorship_tag": "ABX9TyOM5b7S0IbdNy0MvAzkUnVZ",
      "include_colab_link": true
    },
    "kernelspec": {
      "name": "python3",
      "display_name": "Python 3"
    },
    "language_info": {
      "name": "python"
    }
  },
  "cells": [
    {
      "cell_type": "markdown",
      "metadata": {
        "id": "view-in-github",
        "colab_type": "text"
      },
      "source": [
        "<a href=\"https://colab.research.google.com/github/ducvktran/SpaceX-Rocket-Launch-Data-Dashboard/blob/main/SpaceX_Rocket_Launch_Data_Dashboard.ipynb\" target=\"_parent\"><img src=\"https://colab.research.google.com/assets/colab-badge.svg\" alt=\"Open In Colab\"/></a>"
      ]
    },
    {
      "cell_type": "markdown",
      "source": [
        "The dataset used to make the dashboard contains some data on SpaceX rocket launches. The 'class' column indicates whether the launch was successful: class = 1 means the launch was successful, and class = 0 means the launch was not successful."
      ],
      "metadata": {
        "id": "nmzq0NIoM43e"
      }
    },
    {
      "cell_type": "markdown",
      "source": [
        "## Setting Up Libraries"
      ],
      "metadata": {
        "id": "pQ0PGwohNdwn"
      }
    },
    {
      "cell_type": "code",
      "execution_count": 1,
      "metadata": {
        "colab": {
          "base_uri": "https://localhost:8080/",
          "height": 798
        },
        "id": "MS_GsjHlMX1x",
        "outputId": "69b399b8-df7c-4867-fe8f-ba494408fbfd"
      },
      "outputs": [
        {
          "output_type": "stream",
          "name": "stdout",
          "text": [
            "Requirement already satisfied: pandas in /usr/local/lib/python3.10/dist-packages (1.5.3)\n",
            "Collecting dash\n",
            "  Downloading dash-2.16.1-py3-none-any.whl (10.2 MB)\n",
            "\u001b[2K     \u001b[90m━━━━━━━━━━━━━━━━━━━━━━━━━━━━━━━━━━━━━━━━\u001b[0m \u001b[32m10.2/10.2 MB\u001b[0m \u001b[31m12.2 MB/s\u001b[0m eta \u001b[36m0:00:00\u001b[0m\n",
            "\u001b[?25hRequirement already satisfied: python-dateutil>=2.8.1 in /usr/local/lib/python3.10/dist-packages (from pandas) (2.8.2)\n",
            "Requirement already satisfied: pytz>=2020.1 in /usr/local/lib/python3.10/dist-packages (from pandas) (2023.4)\n",
            "Requirement already satisfied: numpy>=1.21.0 in /usr/local/lib/python3.10/dist-packages (from pandas) (1.25.2)\n",
            "Requirement already satisfied: Flask<3.1,>=1.0.4 in /usr/local/lib/python3.10/dist-packages (from dash) (2.2.5)\n",
            "Requirement already satisfied: Werkzeug<3.1 in /usr/local/lib/python3.10/dist-packages (from dash) (3.0.1)\n",
            "Requirement already satisfied: plotly>=5.0.0 in /usr/local/lib/python3.10/dist-packages (from dash) (5.15.0)\n",
            "Collecting dash-html-components==2.0.0 (from dash)\n",
            "  Downloading dash_html_components-2.0.0-py3-none-any.whl (4.1 kB)\n",
            "Collecting dash-core-components==2.0.0 (from dash)\n",
            "  Downloading dash_core_components-2.0.0-py3-none-any.whl (3.8 kB)\n",
            "Collecting dash-table==5.0.0 (from dash)\n",
            "  Downloading dash_table-5.0.0-py3-none-any.whl (3.9 kB)\n",
            "Requirement already satisfied: importlib-metadata in /usr/local/lib/python3.10/dist-packages (from dash) (7.0.2)\n",
            "Requirement already satisfied: typing-extensions>=4.1.1 in /usr/local/lib/python3.10/dist-packages (from dash) (4.10.0)\n",
            "Requirement already satisfied: requests in /usr/local/lib/python3.10/dist-packages (from dash) (2.31.0)\n",
            "Collecting retrying (from dash)\n",
            "  Downloading retrying-1.3.4-py3-none-any.whl (11 kB)\n",
            "Requirement already satisfied: nest-asyncio in /usr/local/lib/python3.10/dist-packages (from dash) (1.6.0)\n",
            "Requirement already satisfied: setuptools in /usr/local/lib/python3.10/dist-packages (from dash) (67.7.2)\n",
            "Requirement already satisfied: Jinja2>=3.0 in /usr/local/lib/python3.10/dist-packages (from Flask<3.1,>=1.0.4->dash) (3.1.3)\n",
            "Requirement already satisfied: itsdangerous>=2.0 in /usr/local/lib/python3.10/dist-packages (from Flask<3.1,>=1.0.4->dash) (2.1.2)\n",
            "Requirement already satisfied: click>=8.0 in /usr/local/lib/python3.10/dist-packages (from Flask<3.1,>=1.0.4->dash) (8.1.7)\n",
            "Requirement already satisfied: tenacity>=6.2.0 in /usr/local/lib/python3.10/dist-packages (from plotly>=5.0.0->dash) (8.2.3)\n",
            "Requirement already satisfied: packaging in /usr/local/lib/python3.10/dist-packages (from plotly>=5.0.0->dash) (24.0)\n",
            "Requirement already satisfied: six>=1.5 in /usr/local/lib/python3.10/dist-packages (from python-dateutil>=2.8.1->pandas) (1.16.0)\n",
            "Requirement already satisfied: MarkupSafe>=2.1.1 in /usr/local/lib/python3.10/dist-packages (from Werkzeug<3.1->dash) (2.1.5)\n",
            "Requirement already satisfied: zipp>=0.5 in /usr/local/lib/python3.10/dist-packages (from importlib-metadata->dash) (3.18.1)\n",
            "Requirement already satisfied: charset-normalizer<4,>=2 in /usr/local/lib/python3.10/dist-packages (from requests->dash) (3.3.2)\n",
            "Requirement already satisfied: idna<4,>=2.5 in /usr/local/lib/python3.10/dist-packages (from requests->dash) (3.6)\n",
            "Requirement already satisfied: urllib3<3,>=1.21.1 in /usr/local/lib/python3.10/dist-packages (from requests->dash) (2.0.7)\n",
            "Requirement already satisfied: certifi>=2017.4.17 in /usr/local/lib/python3.10/dist-packages (from requests->dash) (2024.2.2)\n",
            "Installing collected packages: dash-table, dash-html-components, dash-core-components, retrying, dash\n",
            "Successfully installed dash-2.16.1 dash-core-components-2.0.0 dash-html-components-2.0.0 dash-table-5.0.0 retrying-1.3.4\n"
          ]
        },
        {
          "output_type": "stream",
          "name": "stderr",
          "text": [
            "<ipython-input-1-633dfcf4011b>:5: UserWarning: \n",
            "The dash_html_components package is deprecated. Please replace\n",
            "`import dash_html_components as html` with `from dash import html`\n",
            "  import dash_html_components as html\n",
            "<ipython-input-1-633dfcf4011b>:6: UserWarning: \n",
            "The dash_core_components package is deprecated. Please replace\n",
            "`import dash_core_components as dcc` with `from dash import dcc`\n",
            "  import dash_core_components as dcc\n"
          ]
        }
      ],
      "source": [
        "!pip install pandas dash\n",
        "\n",
        "import pandas as pd\n",
        "import dash\n",
        "import dash_html_components as html\n",
        "import dash_core_components as dcc\n",
        "from dash.dependencies import Input, Output\n",
        "import plotly.express as px"
      ]
    },
    {
      "cell_type": "markdown",
      "source": [
        "## Make the Dashboard"
      ],
      "metadata": {
        "id": "8Cr_SuMbOLJu"
      }
    },
    {
      "cell_type": "code",
      "source": [
        "#Read the SpaceX launch data into pandas dataframe\n",
        "spacex_df = pd.read_csv('https://cf-courses-data.s3.us.cloud-object-storage.appdomain.cloud/IBM-DS0321EN-SkillsNetwork/datasets/spacex_launch_dash.csv')\n",
        "max_payload = spacex_df['Payload Mass (kg)'].max()\n",
        "min_payload = spacex_df['Payload Mass (kg)'].min()\n",
        "\n",
        "#Create a dash application\n",
        "app = dash.Dash(__name__)\n",
        "\n",
        "#App layout\n",
        "app.layout = html.Div(children=[\n",
        "    html.H1('SpaceX Launch Records Dashboard',\n",
        "            style={'textAlign': 'center',\n",
        "                   'color': '#503D36',\n",
        "                   'font-size': 40}),\n",
        "    #Dropdown list for launch sites\n",
        "    dcc.Dropdown(id='site-dropdown',\n",
        "                 options=[\n",
        "                    {'label': 'All sites', 'value': 'All'},\n",
        "                    {'label': 'CCAFS LC-40', 'value': 'CCAFS LC-40'},\n",
        "                    {'label': 'CCAFS SLC-40', 'value': 'CCAFS SLC-40'},\n",
        "                    {'label': 'KSC LC-39A', 'value': 'KSC LC-39A'},\n",
        "                    {'label': 'VAFB SLC-4E', 'value': 'VAFB SLC-4E'}\n",
        "                    ],\n",
        "                 value='All',\n",
        "                 placeholder='Select a launch site here',\n",
        "                 searchable=True\n",
        "                 ),\n",
        "    html.Br(),\n",
        "    #Pie chart to show launch outcomes for various launch sites\n",
        "    html.Div(dcc.Graph(id='success-pie-chart')),\n",
        "    html.Br(),\n",
        "    html.P('Payload range (kg):'),\n",
        "    #Slider for payload mass range\n",
        "    dcc.RangeSlider(id='payload-slider',\n",
        "                    min=0,\n",
        "                    max=10000,\n",
        "                    step=1000,\n",
        "                    value=[min_payload, max_payload]\n",
        "                    ),\n",
        "    #Scatter chart to show correlation between payload mass and launch outcome\n",
        "    html.Div(dcc.Graph(id='success-payload-scatter-chart')),\n",
        "    ])\n",
        "\n",
        "#Callback function for pie chart\n",
        "@app.callback(Output(component_id='success-pie-chart', component_property='figure'),\n",
        "              Input(component_id='site-dropdown', component_property='value'))\n",
        "def get_pie_chart(entered_site):\n",
        "    if entered_site == 'All':\n",
        "        data = spacex_df.groupby('Launch Site', as_index=False)['class'].sum()\n",
        "        data.rename(columns={'class':'Success Count'}, inplace=True)\n",
        "        fig = px.pie(data,\n",
        "                     values='Success Count',\n",
        "                     names='Launch Site',\n",
        "                     title='Total Successful Launches for All Launch Sites')\n",
        "        return fig\n",
        "    else:\n",
        "        data = pd.DataFrame({\n",
        "            'Result': ['Success', 'Failure'],\n",
        "            'Count': [spacex_df[(spacex_df['Launch Site'] == entered_site) & (spacex_df['class'] == 1)].shape[0],\n",
        "                      spacex_df[(spacex_df['Launch Site'] == entered_site) & (spacex_df['class'] == 0)].shape[0]]\n",
        "            })\n",
        "        fig = px.pie(data,\n",
        "                     values='Count',\n",
        "                     names='Result',\n",
        "                     title='Successes and Failures at {}'.format(entered_site))\n",
        "        return fig\n",
        "\n",
        "#Callback function for scatter chart\n",
        "@app.callback(Output(component_id='success-payload-scatter-chart', component_property='figure'),\n",
        "              [Input(component_id='site-dropdown', component_property='value'),\n",
        "               Input(component_id='payload-slider', component_property='value')])\n",
        "def get_scatter_chart(entered_site, payload_range):\n",
        "    data = spacex_df[(spacex_df['Payload Mass (kg)'] >= payload_range[0])\n",
        "                    &(spacex_df['Payload Mass (kg)'] <= payload_range[1])]\n",
        "    if entered_site == 'All':\n",
        "        fig = px.scatter(data,\n",
        "                         x='Payload Mass (kg)',\n",
        "                         y='class',\n",
        "                         color='Booster Version Category',\n",
        "                         title='Payload Mass and Launch Outcome for All Sites')\n",
        "        return fig\n",
        "    else:\n",
        "        plot_data = data[data['Launch Site'] == entered_site]\n",
        "        fig = px.scatter(plot_data,\n",
        "                         x='Payload Mass (kg)',\n",
        "                         y='class',\n",
        "                         color='Booster Version Category',\n",
        "                         title='Payload Mass and Launch Outcome for {}'.format(entered_site))\n",
        "        return fig\n",
        "\n",
        "#Run the app\n",
        "if __name__ == '__main__':\n",
        "    app.run_server()"
      ],
      "metadata": {
        "colab": {
          "base_uri": "https://localhost:8080/",
          "height": 671
        },
        "id": "8oWGAmf7ObWJ",
        "outputId": "b426df64-37dd-45dd-c6c3-1818e6079088"
      },
      "execution_count": 2,
      "outputs": [
        {
          "output_type": "display_data",
          "data": {
            "text/plain": [
              "<IPython.core.display.Javascript object>"
            ],
            "application/javascript": [
              "(async (port, path, width, height, cache, element) => {\n",
              "    if (!google.colab.kernel.accessAllowed && !cache) {\n",
              "      return;\n",
              "    }\n",
              "    element.appendChild(document.createTextNode(''));\n",
              "    const url = await google.colab.kernel.proxyPort(port, {cache});\n",
              "    const iframe = document.createElement('iframe');\n",
              "    iframe.src = new URL(path, url).toString();\n",
              "    iframe.height = height;\n",
              "    iframe.width = width;\n",
              "    iframe.style.border = 0;\n",
              "    iframe.allow = [\n",
              "        'accelerometer',\n",
              "        'autoplay',\n",
              "        'camera',\n",
              "        'clipboard-read',\n",
              "        'clipboard-write',\n",
              "        'gyroscope',\n",
              "        'magnetometer',\n",
              "        'microphone',\n",
              "        'serial',\n",
              "        'usb',\n",
              "        'xr-spatial-tracking',\n",
              "    ].join('; ');\n",
              "    element.appendChild(iframe);\n",
              "  })(8050, \"/\", \"100%\", 650, false, window.element)"
            ]
          },
          "metadata": {}
        }
      ]
    }
  ]
}